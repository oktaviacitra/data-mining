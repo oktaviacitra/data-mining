{
  "nbformat": 4,
  "nbformat_minor": 0,
  "metadata": {
    "colab": {
      "name": "Assignment10.ipynb",
      "provenance": [],
      "authorship_tag": "ABX9TyNzXLo2ppMHxHiYHN+OwYyl",
      "include_colab_link": true
    },
    "kernelspec": {
      "name": "python3",
      "display_name": "Python 3"
    },
    "language_info": {
      "name": "python"
    }
  },
  "cells": [
    {
      "cell_type": "markdown",
      "metadata": {
        "id": "view-in-github",
        "colab_type": "text"
      },
      "source": [
        "<a href=\"https://colab.research.google.com/github/oktaviacitra/data-mining/blob/main/Assignment8.ipynb\" target=\"_parent\"><img src=\"https://colab.research.google.com/assets/colab-badge.svg\" alt=\"Open In Colab\"/></a>"
      ]
    },
    {
      "cell_type": "markdown",
      "metadata": {
        "id": "QxQ5pmjwLtKP"
      },
      "source": [
        "# Import Libraries"
      ]
    },
    {
      "cell_type": "code",
      "metadata": {
        "id": "KjhFcrDMLsIJ"
      },
      "source": [
        "import pandas as pd\n",
        "from sklearn.cluster import KMeans\n",
        "from google.colab import drive\n",
        "import seaborn as sns"
      ],
      "execution_count": null,
      "outputs": []
    },
    {
      "cell_type": "markdown",
      "metadata": {
        "id": "N8LQ-rU0Njwd"
      },
      "source": [
        "# Connect to Drive"
      ]
    },
    {
      "cell_type": "code",
      "metadata": {
        "colab": {
          "base_uri": "https://localhost:8080/"
        },
        "id": "fzSXh-9bNpTZ",
        "outputId": "cf867e20-73d0-4327-a846-c98bff033eba"
      },
      "source": [
        "drive.mount('/content/drive')"
      ],
      "execution_count": null,
      "outputs": [
        {
          "output_type": "stream",
          "text": [
            "Drive already mounted at /content/drive; to attempt to forcibly remount, call drive.mount(\"/content/drive\", force_remount=True).\n"
          ],
          "name": "stdout"
        }
      ]
    },
    {
      "cell_type": "markdown",
      "metadata": {
        "id": "-hiEjTpwNqPz"
      },
      "source": [
        "# Read Dataset"
      ]
    },
    {
      "cell_type": "code",
      "metadata": {
        "colab": {
          "base_uri": "https://localhost:8080/",
          "height": 433
        },
        "id": "K8GRp6LFNvRY",
        "outputId": "0ff6603c-2d7a-41cf-d3b4-d2852430a73a"
      },
      "source": [
        "path = \"/content/drive/MyDrive/Data Mining/transaction.csv\"\n",
        "dataset = pd.read_csv(path)\n",
        "dataset"
      ],
      "execution_count": null,
      "outputs": [
        {
          "output_type": "execute_result",
          "data": {
            "text/html": [
              "<div>\n",
              "<style scoped>\n",
              "    .dataframe tbody tr th:only-of-type {\n",
              "        vertical-align: middle;\n",
              "    }\n",
              "\n",
              "    .dataframe tbody tr th {\n",
              "        vertical-align: top;\n",
              "    }\n",
              "\n",
              "    .dataframe thead th {\n",
              "        text-align: right;\n",
              "    }\n",
              "</style>\n",
              "<table border=\"1\" class=\"dataframe\">\n",
              "  <thead>\n",
              "    <tr style=\"text-align: right;\">\n",
              "      <th></th>\n",
              "      <th>InvoiceNo</th>\n",
              "      <th>StockCode</th>\n",
              "      <th>Qty</th>\n",
              "      <th>InvoiceDate</th>\n",
              "      <th>CustomerID</th>\n",
              "      <th>Country</th>\n",
              "    </tr>\n",
              "  </thead>\n",
              "  <tbody>\n",
              "    <tr>\n",
              "      <th>0</th>\n",
              "      <td>537626</td>\n",
              "      <td>22725</td>\n",
              "      <td>830</td>\n",
              "      <td>12/7/2010 14:57</td>\n",
              "      <td>12347</td>\n",
              "      <td>Iceland</td>\n",
              "    </tr>\n",
              "    <tr>\n",
              "      <th>1</th>\n",
              "      <td>537626</td>\n",
              "      <td>22729</td>\n",
              "      <td>948</td>\n",
              "      <td>12/7/2010 14:57</td>\n",
              "      <td>12347</td>\n",
              "      <td>Iceland</td>\n",
              "    </tr>\n",
              "    <tr>\n",
              "      <th>2</th>\n",
              "      <td>537626</td>\n",
              "      <td>22195</td>\n",
              "      <td>695</td>\n",
              "      <td>12/7/2010 14:57</td>\n",
              "      <td>12347</td>\n",
              "      <td>Iceland</td>\n",
              "    </tr>\n",
              "    <tr>\n",
              "      <th>3</th>\n",
              "      <td>542237</td>\n",
              "      <td>22725</td>\n",
              "      <td>636</td>\n",
              "      <td>1/26/2011 14:30</td>\n",
              "      <td>12347</td>\n",
              "      <td>Iceland</td>\n",
              "    </tr>\n",
              "    <tr>\n",
              "      <th>4</th>\n",
              "      <td>542237</td>\n",
              "      <td>22729</td>\n",
              "      <td>536</td>\n",
              "      <td>1/26/2011 14:30</td>\n",
              "      <td>12347</td>\n",
              "      <td>Iceland</td>\n",
              "    </tr>\n",
              "    <tr>\n",
              "      <th>...</th>\n",
              "      <td>...</td>\n",
              "      <td>...</td>\n",
              "      <td>...</td>\n",
              "      <td>...</td>\n",
              "      <td>...</td>\n",
              "      <td>...</td>\n",
              "    </tr>\n",
              "    <tr>\n",
              "      <th>10541</th>\n",
              "      <td>543911</td>\n",
              "      <td>21700</td>\n",
              "      <td>455</td>\n",
              "      <td>2/14/2011 12:46</td>\n",
              "      <td>17829</td>\n",
              "      <td>United Arab Emirates</td>\n",
              "    </tr>\n",
              "    <tr>\n",
              "      <th>10542</th>\n",
              "      <td>543911</td>\n",
              "      <td>22111</td>\n",
              "      <td>578</td>\n",
              "      <td>2/14/2011 12:46</td>\n",
              "      <td>17829</td>\n",
              "      <td>United Arab Emirates</td>\n",
              "    </tr>\n",
              "    <tr>\n",
              "      <th>10543</th>\n",
              "      <td>543911</td>\n",
              "      <td>22112</td>\n",
              "      <td>163</td>\n",
              "      <td>2/14/2011 12:46</td>\n",
              "      <td>17829</td>\n",
              "      <td>United Arab Emirates</td>\n",
              "    </tr>\n",
              "    <tr>\n",
              "      <th>10544</th>\n",
              "      <td>564428</td>\n",
              "      <td>23296</td>\n",
              "      <td>545</td>\n",
              "      <td>8/25/2011 11:27</td>\n",
              "      <td>17844</td>\n",
              "      <td>Canada</td>\n",
              "    </tr>\n",
              "    <tr>\n",
              "      <th>10545</th>\n",
              "      <td>564428</td>\n",
              "      <td>23294</td>\n",
              "      <td>643</td>\n",
              "      <td>8/25/2011 11:27</td>\n",
              "      <td>17844</td>\n",
              "      <td>Canada</td>\n",
              "    </tr>\n",
              "  </tbody>\n",
              "</table>\n",
              "<p>10546 rows × 6 columns</p>\n",
              "</div>"
            ],
            "text/plain": [
              "       InvoiceNo  StockCode  ...  CustomerID               Country\n",
              "0         537626      22725  ...       12347               Iceland\n",
              "1         537626      22729  ...       12347               Iceland\n",
              "2         537626      22195  ...       12347               Iceland\n",
              "3         542237      22725  ...       12347               Iceland\n",
              "4         542237      22729  ...       12347               Iceland\n",
              "...          ...        ...  ...         ...                   ...\n",
              "10541     543911      21700  ...       17829  United Arab Emirates\n",
              "10542     543911      22111  ...       17829  United Arab Emirates\n",
              "10543     543911      22112  ...       17829  United Arab Emirates\n",
              "10544     564428      23296  ...       17844                Canada\n",
              "10545     564428      23294  ...       17844                Canada\n",
              "\n",
              "[10546 rows x 6 columns]"
            ]
          },
          "metadata": {
            "tags": []
          },
          "execution_count": 150
        }
      ]
    },
    {
      "cell_type": "markdown",
      "metadata": {
        "id": "5SUJzP9mNx4Q"
      },
      "source": [
        "# Count Attributes"
      ]
    },
    {
      "cell_type": "code",
      "metadata": {
        "colab": {
          "base_uri": "https://localhost:8080/"
        },
        "id": "YnmQ9kEON5K9",
        "outputId": "6f959149-cc5b-4f18-a8bd-f62c8b047ae7"
      },
      "source": [
        "countries = pd.Series(dataset['Country']).value_counts()\n",
        "countries"
      ],
      "execution_count": null,
      "outputs": [
        {
          "output_type": "execute_result",
          "data": {
            "text/plain": [
              "Germany                 2269\n",
              "France                  2109\n",
              "EIRE                    1620\n",
              "Netherlands              634\n",
              "Spain                    539\n",
              "Belgium                  486\n",
              "Switzerland              434\n",
              "Portugal                 367\n",
              "Australia                356\n",
              "Norway                   239\n",
              "Italy                    190\n",
              "Channel Islands          184\n",
              "Finland                  152\n",
              "Cyprus                   113\n",
              "Sweden                   109\n",
              "Denmark                   98\n",
              "Japan                     92\n",
              "Austria                   88\n",
              "Poland                    80\n",
              "Israel                    61\n",
              "USA                       47\n",
              "Singapore                 45\n",
              "Unspecified               44\n",
              "Canada                    36\n",
              "Iceland                   35\n",
              "Greece                    33\n",
              "United Arab Emirates      23\n",
              "Malta                     15\n",
              "RSA                       14\n",
              "Brazil                     8\n",
              "Lithuania                  8\n",
              "European Community         5\n",
              "Lebanon                    5\n",
              "Czech Republic             4\n",
              "Bahrain                    3\n",
              "Saudi Arabia               1\n",
              "Name: Country, dtype: int64"
            ]
          },
          "metadata": {
            "tags": []
          },
          "execution_count": 151
        }
      ]
    },
    {
      "cell_type": "code",
      "metadata": {
        "colab": {
          "base_uri": "https://localhost:8080/",
          "height": 1000
        },
        "id": "K4HgbZ53OCDo",
        "outputId": "7d33da59-9699-4315-e8ae-6d6fcb105469"
      },
      "source": [
        "transactions = dataset.drop_duplicates(subset=['Country', 'InvoiceNo']).groupby('Country').count()[['InvoiceNo']]\n",
        "transactions"
      ],
      "execution_count": null,
      "outputs": [
        {
          "output_type": "execute_result",
          "data": {
            "text/html": [
              "<div>\n",
              "<style scoped>\n",
              "    .dataframe tbody tr th:only-of-type {\n",
              "        vertical-align: middle;\n",
              "    }\n",
              "\n",
              "    .dataframe tbody tr th {\n",
              "        vertical-align: top;\n",
              "    }\n",
              "\n",
              "    .dataframe thead th {\n",
              "        text-align: right;\n",
              "    }\n",
              "</style>\n",
              "<table border=\"1\" class=\"dataframe\">\n",
              "  <thead>\n",
              "    <tr style=\"text-align: right;\">\n",
              "      <th></th>\n",
              "      <th>InvoiceNo</th>\n",
              "    </tr>\n",
              "    <tr>\n",
              "      <th>Country</th>\n",
              "      <th></th>\n",
              "    </tr>\n",
              "  </thead>\n",
              "  <tbody>\n",
              "    <tr>\n",
              "      <th>Australia</th>\n",
              "      <td>44</td>\n",
              "    </tr>\n",
              "    <tr>\n",
              "      <th>Austria</th>\n",
              "      <td>12</td>\n",
              "    </tr>\n",
              "    <tr>\n",
              "      <th>Bahrain</th>\n",
              "      <td>1</td>\n",
              "    </tr>\n",
              "    <tr>\n",
              "      <th>Belgium</th>\n",
              "      <td>84</td>\n",
              "    </tr>\n",
              "    <tr>\n",
              "      <th>Brazil</th>\n",
              "      <td>1</td>\n",
              "    </tr>\n",
              "    <tr>\n",
              "      <th>Canada</th>\n",
              "      <td>3</td>\n",
              "    </tr>\n",
              "    <tr>\n",
              "      <th>Channel Islands</th>\n",
              "      <td>21</td>\n",
              "    </tr>\n",
              "    <tr>\n",
              "      <th>Cyprus</th>\n",
              "      <td>16</td>\n",
              "    </tr>\n",
              "    <tr>\n",
              "      <th>Czech Republic</th>\n",
              "      <td>2</td>\n",
              "    </tr>\n",
              "    <tr>\n",
              "      <th>Denmark</th>\n",
              "      <td>18</td>\n",
              "    </tr>\n",
              "    <tr>\n",
              "      <th>EIRE</th>\n",
              "      <td>224</td>\n",
              "    </tr>\n",
              "    <tr>\n",
              "      <th>European Community</th>\n",
              "      <td>3</td>\n",
              "    </tr>\n",
              "    <tr>\n",
              "      <th>Finland</th>\n",
              "      <td>26</td>\n",
              "    </tr>\n",
              "    <tr>\n",
              "      <th>France</th>\n",
              "      <td>344</td>\n",
              "    </tr>\n",
              "    <tr>\n",
              "      <th>Germany</th>\n",
              "      <td>377</td>\n",
              "    </tr>\n",
              "    <tr>\n",
              "      <th>Greece</th>\n",
              "      <td>5</td>\n",
              "    </tr>\n",
              "    <tr>\n",
              "      <th>Iceland</th>\n",
              "      <td>6</td>\n",
              "    </tr>\n",
              "    <tr>\n",
              "      <th>Israel</th>\n",
              "      <td>4</td>\n",
              "    </tr>\n",
              "    <tr>\n",
              "      <th>Italy</th>\n",
              "      <td>31</td>\n",
              "    </tr>\n",
              "    <tr>\n",
              "      <th>Japan</th>\n",
              "      <td>14</td>\n",
              "    </tr>\n",
              "    <tr>\n",
              "      <th>Lebanon</th>\n",
              "      <td>1</td>\n",
              "    </tr>\n",
              "    <tr>\n",
              "      <th>Lithuania</th>\n",
              "      <td>2</td>\n",
              "    </tr>\n",
              "    <tr>\n",
              "      <th>Malta</th>\n",
              "      <td>2</td>\n",
              "    </tr>\n",
              "    <tr>\n",
              "      <th>Netherlands</th>\n",
              "      <td>76</td>\n",
              "    </tr>\n",
              "    <tr>\n",
              "      <th>Norway</th>\n",
              "      <td>28</td>\n",
              "    </tr>\n",
              "    <tr>\n",
              "      <th>Poland</th>\n",
              "      <td>17</td>\n",
              "    </tr>\n",
              "    <tr>\n",
              "      <th>Portugal</th>\n",
              "      <td>43</td>\n",
              "    </tr>\n",
              "    <tr>\n",
              "      <th>RSA</th>\n",
              "      <td>1</td>\n",
              "    </tr>\n",
              "    <tr>\n",
              "      <th>Saudi Arabia</th>\n",
              "      <td>1</td>\n",
              "    </tr>\n",
              "    <tr>\n",
              "      <th>Singapore</th>\n",
              "      <td>4</td>\n",
              "    </tr>\n",
              "    <tr>\n",
              "      <th>Spain</th>\n",
              "      <td>72</td>\n",
              "    </tr>\n",
              "    <tr>\n",
              "      <th>Sweden</th>\n",
              "      <td>26</td>\n",
              "    </tr>\n",
              "    <tr>\n",
              "      <th>Switzerland</th>\n",
              "      <td>41</td>\n",
              "    </tr>\n",
              "    <tr>\n",
              "      <th>USA</th>\n",
              "      <td>5</td>\n",
              "    </tr>\n",
              "    <tr>\n",
              "      <th>United Arab Emirates</th>\n",
              "      <td>2</td>\n",
              "    </tr>\n",
              "    <tr>\n",
              "      <th>Unspecified</th>\n",
              "      <td>8</td>\n",
              "    </tr>\n",
              "  </tbody>\n",
              "</table>\n",
              "</div>"
            ],
            "text/plain": [
              "                      InvoiceNo\n",
              "Country                        \n",
              "Australia                    44\n",
              "Austria                      12\n",
              "Bahrain                       1\n",
              "Belgium                      84\n",
              "Brazil                        1\n",
              "Canada                        3\n",
              "Channel Islands              21\n",
              "Cyprus                       16\n",
              "Czech Republic                2\n",
              "Denmark                      18\n",
              "EIRE                        224\n",
              "European Community            3\n",
              "Finland                      26\n",
              "France                      344\n",
              "Germany                     377\n",
              "Greece                        5\n",
              "Iceland                       6\n",
              "Israel                        4\n",
              "Italy                        31\n",
              "Japan                        14\n",
              "Lebanon                       1\n",
              "Lithuania                     2\n",
              "Malta                         2\n",
              "Netherlands                  76\n",
              "Norway                       28\n",
              "Poland                       17\n",
              "Portugal                     43\n",
              "RSA                           1\n",
              "Saudi Arabia                  1\n",
              "Singapore                     4\n",
              "Spain                        72\n",
              "Sweden                       26\n",
              "Switzerland                  41\n",
              "USA                           5\n",
              "United Arab Emirates          2\n",
              "Unspecified                   8"
            ]
          },
          "metadata": {
            "tags": []
          },
          "execution_count": 152
        }
      ]
    },
    {
      "cell_type": "markdown",
      "metadata": {
        "id": "_AsY1Em1OC9r"
      },
      "source": [
        "# Cluster"
      ]
    },
    {
      "cell_type": "code",
      "metadata": {
        "colab": {
          "base_uri": "https://localhost:8080/"
        },
        "id": "swcXbXPUOLox",
        "outputId": "397577cf-f86a-430a-b22e-df171435fee9"
      },
      "source": [
        "clusters = []\n",
        "for i in range(0, 9):\n",
        "  cluster = []\n",
        "  kmeans = KMeans(n_clusters=3, init=\"random\", n_init=1)\n",
        "  cluster.append(kmeans.fit_predict(transactions))\n",
        "  cluster.append(kmeans.inertia_)\n",
        "  clusters.append(cluster)\n",
        "clusters"
      ],
      "execution_count": null,
      "outputs": [
        {
          "output_type": "execute_result",
          "data": {
            "text/plain": [
              "[[array([0, 1, 1, 0, 1, 1, 1, 1, 1, 1, 2, 1, 1, 2, 2, 1, 1, 1, 1, 1, 1, 1,\n",
              "         1, 0, 1, 1, 0, 1, 1, 1, 0, 1, 0, 1, 1, 1], dtype=int32),\n",
              "  17312.2962962963],\n",
              " [array([2, 1, 1, 2, 1, 1, 1, 1, 1, 1, 0, 1, 1, 0, 0, 1, 1, 1, 1, 1, 1, 1,\n",
              "         1, 2, 1, 1, 2, 1, 1, 1, 2, 1, 2, 1, 1, 1], dtype=int32),\n",
              "  17312.2962962963],\n",
              " [array([2, 1, 1, 2, 1, 1, 1, 1, 1, 1, 0, 1, 1, 0, 0, 1, 1, 1, 1, 1, 1, 1,\n",
              "         1, 2, 1, 1, 2, 1, 1, 1, 2, 1, 2, 1, 1, 1], dtype=int32),\n",
              "  17312.2962962963],\n",
              " [array([1, 2, 2, 1, 2, 2, 2, 2, 2, 2, 0, 2, 2, 0, 0, 2, 2, 2, 2, 2, 2, 2,\n",
              "         2, 1, 2, 2, 1, 2, 2, 2, 1, 2, 1, 2, 2, 2], dtype=int32),\n",
              "  17312.2962962963],\n",
              " [array([0, 2, 2, 0, 2, 2, 2, 2, 2, 2, 1, 2, 2, 1, 1, 2, 2, 2, 2, 2, 2, 2,\n",
              "         2, 0, 2, 2, 0, 2, 2, 2, 0, 2, 0, 2, 2, 2], dtype=int32),\n",
              "  17312.2962962963],\n",
              " [array([2, 1, 1, 2, 1, 1, 1, 1, 1, 1, 0, 1, 1, 0, 0, 1, 1, 1, 1, 1, 1, 1,\n",
              "         1, 2, 1, 1, 2, 1, 1, 1, 2, 1, 2, 1, 1, 1], dtype=int32),\n",
              "  17312.2962962963],\n",
              " [array([0, 2, 2, 0, 2, 2, 2, 2, 2, 2, 1, 2, 2, 1, 1, 2, 2, 2, 2, 2, 2, 2,\n",
              "         2, 0, 2, 2, 0, 2, 2, 2, 0, 2, 0, 2, 2, 2], dtype=int32),\n",
              "  17312.2962962963],\n",
              " [array([0, 1, 1, 0, 1, 1, 1, 1, 1, 1, 2, 1, 1, 2, 2, 1, 1, 1, 1, 1, 1, 1,\n",
              "         1, 0, 1, 1, 0, 1, 1, 1, 0, 1, 0, 1, 1, 1], dtype=int32),\n",
              "  17312.2962962963],\n",
              " [array([0, 2, 2, 0, 2, 2, 2, 2, 2, 2, 1, 2, 2, 1, 1, 2, 2, 2, 2, 2, 2, 2,\n",
              "         2, 0, 2, 2, 0, 2, 2, 2, 0, 2, 0, 2, 2, 2], dtype=int32),\n",
              "  17312.2962962963]]"
            ]
          },
          "metadata": {
            "tags": []
          },
          "execution_count": 153
        }
      ]
    },
    {
      "cell_type": "code",
      "metadata": {
        "colab": {
          "base_uri": "https://localhost:8080/"
        },
        "id": "X7KIiOLjno_9",
        "outputId": "0b22b416-7ba5-414f-b9ca-50ee3d4a2b50"
      },
      "source": [
        "loc = 0\n",
        "for i in range(0, 9):\n",
        "  if clusters[i][1] < clusters[loc][1]:\n",
        "    loc = i\n",
        "cluster = clusters[loc][0]\n",
        "cluster"
      ],
      "execution_count": null,
      "outputs": [
        {
          "output_type": "execute_result",
          "data": {
            "text/plain": [
              "array([0, 1, 1, 0, 1, 1, 1, 1, 1, 1, 2, 1, 1, 2, 2, 1, 1, 1, 1, 1, 1, 1,\n",
              "       1, 0, 1, 1, 0, 1, 1, 1, 0, 1, 0, 1, 1, 1], dtype=int32)"
            ]
          },
          "metadata": {
            "tags": []
          },
          "execution_count": 154
        }
      ]
    },
    {
      "cell_type": "code",
      "metadata": {
        "colab": {
          "base_uri": "https://localhost:8080/",
          "height": 191
        },
        "id": "utStFFPXqgAD",
        "outputId": "983a41d9-ed01-4f17-84b8-69fc30f2f190"
      },
      "source": [
        "transactions = transactions.assign(label=cluster)\n",
        "centroids = transactions.groupby('label').mean()\n",
        "centroids"
      ],
      "execution_count": null,
      "outputs": [
        {
          "output_type": "execute_result",
          "data": {
            "text/html": [
              "<div>\n",
              "<style scoped>\n",
              "    .dataframe tbody tr th:only-of-type {\n",
              "        vertical-align: middle;\n",
              "    }\n",
              "\n",
              "    .dataframe tbody tr th {\n",
              "        vertical-align: top;\n",
              "    }\n",
              "\n",
              "    .dataframe thead th {\n",
              "        text-align: right;\n",
              "    }\n",
              "</style>\n",
              "<table border=\"1\" class=\"dataframe\">\n",
              "  <thead>\n",
              "    <tr style=\"text-align: right;\">\n",
              "      <th></th>\n",
              "      <th>InvoiceNo</th>\n",
              "    </tr>\n",
              "    <tr>\n",
              "      <th>label</th>\n",
              "      <th></th>\n",
              "    </tr>\n",
              "  </thead>\n",
              "  <tbody>\n",
              "    <tr>\n",
              "      <th>0</th>\n",
              "      <td>60.00000</td>\n",
              "    </tr>\n",
              "    <tr>\n",
              "      <th>1</th>\n",
              "      <td>9.62963</td>\n",
              "    </tr>\n",
              "    <tr>\n",
              "      <th>2</th>\n",
              "      <td>315.00000</td>\n",
              "    </tr>\n",
              "  </tbody>\n",
              "</table>\n",
              "</div>"
            ],
            "text/plain": [
              "       InvoiceNo\n",
              "label           \n",
              "0       60.00000\n",
              "1        9.62963\n",
              "2      315.00000"
            ]
          },
          "metadata": {
            "tags": []
          },
          "execution_count": 155
        }
      ]
    },
    {
      "cell_type": "code",
      "metadata": {
        "colab": {
          "base_uri": "https://localhost:8080/",
          "height": 191
        },
        "id": "sdTHVkWLqqrC",
        "outputId": "47a4a218-2ca1-4bc0-e40b-cca64c0e9dce"
      },
      "source": [
        "sorted = centroids.sort_values(by='InvoiceNo')\n",
        "sorted"
      ],
      "execution_count": null,
      "outputs": [
        {
          "output_type": "execute_result",
          "data": {
            "text/html": [
              "<div>\n",
              "<style scoped>\n",
              "    .dataframe tbody tr th:only-of-type {\n",
              "        vertical-align: middle;\n",
              "    }\n",
              "\n",
              "    .dataframe tbody tr th {\n",
              "        vertical-align: top;\n",
              "    }\n",
              "\n",
              "    .dataframe thead th {\n",
              "        text-align: right;\n",
              "    }\n",
              "</style>\n",
              "<table border=\"1\" class=\"dataframe\">\n",
              "  <thead>\n",
              "    <tr style=\"text-align: right;\">\n",
              "      <th></th>\n",
              "      <th>InvoiceNo</th>\n",
              "    </tr>\n",
              "    <tr>\n",
              "      <th>label</th>\n",
              "      <th></th>\n",
              "    </tr>\n",
              "  </thead>\n",
              "  <tbody>\n",
              "    <tr>\n",
              "      <th>1</th>\n",
              "      <td>9.62963</td>\n",
              "    </tr>\n",
              "    <tr>\n",
              "      <th>0</th>\n",
              "      <td>60.00000</td>\n",
              "    </tr>\n",
              "    <tr>\n",
              "      <th>2</th>\n",
              "      <td>315.00000</td>\n",
              "    </tr>\n",
              "  </tbody>\n",
              "</table>\n",
              "</div>"
            ],
            "text/plain": [
              "       InvoiceNo\n",
              "label           \n",
              "1        9.62963\n",
              "0       60.00000\n",
              "2      315.00000"
            ]
          },
          "metadata": {
            "tags": []
          },
          "execution_count": 156
        }
      ]
    },
    {
      "cell_type": "code",
      "metadata": {
        "colab": {
          "base_uri": "https://localhost:8080/"
        },
        "id": "EIHmotzDqrUT",
        "outputId": "73ccf0db-1d81-40ef-b491-d0d6d4954944"
      },
      "source": [
        "categories = ['Low', 'High', 'Middle']\n",
        "for (i, value) in sorted.iterrows():\n",
        "  print(categories[i])\n",
        "  print(transactions.loc[transactions['label'] == i])"
      ],
      "execution_count": null,
      "outputs": [
        {
          "output_type": "stream",
          "text": [
            "High\n",
            "                      InvoiceNo  label\n",
            "Country                               \n",
            "Austria                      12      1\n",
            "Bahrain                       1      1\n",
            "Brazil                        1      1\n",
            "Canada                        3      1\n",
            "Channel Islands              21      1\n",
            "Cyprus                       16      1\n",
            "Czech Republic                2      1\n",
            "Denmark                      18      1\n",
            "European Community            3      1\n",
            "Finland                      26      1\n",
            "Greece                        5      1\n",
            "Iceland                       6      1\n",
            "Israel                        4      1\n",
            "Italy                        31      1\n",
            "Japan                        14      1\n",
            "Lebanon                       1      1\n",
            "Lithuania                     2      1\n",
            "Malta                         2      1\n",
            "Norway                       28      1\n",
            "Poland                       17      1\n",
            "RSA                           1      1\n",
            "Saudi Arabia                  1      1\n",
            "Singapore                     4      1\n",
            "Sweden                       26      1\n",
            "USA                           5      1\n",
            "United Arab Emirates          2      1\n",
            "Unspecified                   8      1\n",
            "Low\n",
            "             InvoiceNo  label\n",
            "Country                      \n",
            "Australia           44      0\n",
            "Belgium             84      0\n",
            "Netherlands         76      0\n",
            "Portugal            43      0\n",
            "Spain               72      0\n",
            "Switzerland         41      0\n",
            "Middle\n",
            "         InvoiceNo  label\n",
            "Country                  \n",
            "EIRE           224      2\n",
            "France         344      2\n",
            "Germany        377      2\n"
          ],
          "name": "stdout"
        }
      ]
    },
    {
      "cell_type": "code",
      "metadata": {
        "colab": {
          "base_uri": "https://localhost:8080/",
          "height": 316
        },
        "id": "lKJrQzdIqvSK",
        "outputId": "df571488-a258-48be-e421-35d458ac099f"
      },
      "source": [
        "sns.scatterplot(data=transactions, x=\"Country\", y=\"InvoiceNo\", hue=\"label\")"
      ],
      "execution_count": null,
      "outputs": [
        {
          "output_type": "execute_result",
          "data": {
            "text/plain": [
              "<matplotlib.axes._subplots.AxesSubplot at 0x7f868b93ee90>"
            ]
          },
          "metadata": {
            "tags": []
          },
          "execution_count": 158
        },
        {
          "output_type": "display_data",
          "data": {
            "image/png": "[encoded data removed]",
            "text/plain": [
              "<Figure size 432x288 with 1 Axes>"
            ]
          },
          "metadata": {
            "tags": [],
            "needs_background": "light"
          }
        }
      ]
    }
  ]
}
