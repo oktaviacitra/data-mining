{
  "nbformat": 4,
  "nbformat_minor": 0,
  "metadata": {
    "colab": {
      "name": "Assignment7.ipynb",
      "provenance": [],
      "collapsed_sections": [],
      "authorship_tag": "ABX9TyM1HfUqOV9jutPFl73RUA1x",
      "include_colab_link": true
    },
    "kernelspec": {
      "name": "python3",
      "display_name": "Python 3"
    },
    "language_info": {
      "name": "python"
    }
  },
  "cells": [
    {
      "cell_type": "markdown",
      "metadata": {
        "id": "view-in-github",
        "colab_type": "text"
      },
      "source": [
        "<a href=\"https://colab.research.google.com/github/oktaviacitra/data-mining/blob/main/Assignment7.ipynb\" target=\"_parent\"><img src=\"https://colab.research.google.com/assets/colab-badge.svg\" alt=\"Open In Colab\"/></a>"
      ]
    },
    {
      "cell_type": "markdown",
      "metadata": {
        "id": "4c0x_jxSxYYS"
      },
      "source": [
        "# Import Libraries"
      ]
    },
    {
      "cell_type": "code",
      "metadata": {
        "id": "ZHVOzRZzxRSR"
      },
      "source": [
        "import pandas as pd\n",
        "from google.colab import drive\n",
        "from sklearn import tree, metrics\n",
        "from sklearn.tree import DecisionTreeClassifier"
      ],
      "execution_count": null,
      "outputs": []
    },
    {
      "cell_type": "markdown",
      "metadata": {
        "id": "nN2PxZNfyLKB"
      },
      "source": [
        "# Connect to Google Drive"
      ]
    },
    {
      "cell_type": "code",
      "metadata": {
        "colab": {
          "base_uri": "https://localhost:8080/"
        },
        "id": "HraF4uLQyOoP",
        "outputId": "daea1e13-7b7b-4c54-a1d2-19ec459f1d79"
      },
      "source": [
        "from google.colab import drive\n",
        "drive.mount('/content/drive')"
      ],
      "execution_count": null,
      "outputs": [
        {
          "output_type": "stream",
          "text": [
            "Drive already mounted at /content/drive; to attempt to forcibly remount, call drive.mount(\"/content/drive\", force_remount=True).\n"
          ],
          "name": "stdout"
        }
      ]
    },
    {
      "cell_type": "markdown",
      "metadata": {
        "id": "2whq5T7kyXOM"
      },
      "source": [
        "# Read Dataset"
      ]
    },
    {
      "cell_type": "code",
      "metadata": {
        "id": "yPryce4MzsA5"
      },
      "source": [
        "path = \"/content/drive/MyDrive/Data Mining/\""
      ],
      "execution_count": null,
      "outputs": []
    },
    {
      "cell_type": "code",
      "metadata": {
        "id": "ys0YSAnNzy6u"
      },
      "source": [
        "train_data = pd.read_csv(path + \"titanic.csv\")"
      ],
      "execution_count": null,
      "outputs": []
    },
    {
      "cell_type": "code",
      "metadata": {
        "id": "fYODu2Ffd8aW"
      },
      "source": [
        "train_label = train_data.loc[:, ['Survived']]\n",
        "train_data = train_data.drop(['Survived'], axis=1)"
      ],
      "execution_count": null,
      "outputs": []
    },
    {
      "cell_type": "code",
      "metadata": {
        "id": "nyxTcQLP1aEW"
      },
      "source": [
        "test_data = pd.read_csv(path + \"titanic_test.csv\")"
      ],
      "execution_count": null,
      "outputs": []
    },
    {
      "cell_type": "code",
      "metadata": {
        "id": "GVK8lgEy_nWC"
      },
      "source": [
        "test_label = pd.read_csv(path + \"titanic_testlabel.csv\").drop(['PassengerId'], axis=1)"
      ],
      "execution_count": null,
      "outputs": []
    },
    {
      "cell_type": "markdown",
      "metadata": {
        "id": "ZEUdogZItj-x"
      },
      "source": [
        "# Delete Some Features"
      ]
    },
    {
      "cell_type": "code",
      "metadata": {
        "id": "fDN_rbI9toUJ"
      },
      "source": [
        "train_data = train_data.drop(['PassengerId', 'Name', 'Ticket', 'Cabin'], axis=1)\n",
        "test_data = test_data.drop(['PassengerId', 'Name', 'Ticket', 'Cabin'], axis=1)"
      ],
      "execution_count": null,
      "outputs": []
    },
    {
      "cell_type": "markdown",
      "metadata": {
        "id": "yCUlR76ovOoc"
      },
      "source": [
        "# Change Categorical Features"
      ]
    },
    {
      "cell_type": "code",
      "metadata": {
        "id": "VVEbzcjUwG_r"
      },
      "source": [
        "train_data = train_data.replace({'female':1, 'male':0, 'S':0, 'C':1, 'Q':2})\n",
        "test_data = test_data.replace({'female':1, 'male':0, 'S':0, 'C':1, 'Q':2})"
      ],
      "execution_count": null,
      "outputs": []
    },
    {
      "cell_type": "markdown",
      "metadata": {
        "id": "QWAYfCRNA8KA"
      },
      "source": [
        "# Drop Missing Values"
      ]
    },
    {
      "cell_type": "code",
      "metadata": {
        "id": "iUCaXrmOqP8C"
      },
      "source": [
        "pos_missing_train = [index for index, row in train_data.iterrows() if row.isnull().any()]\n",
        "train_data = train_data.dropna()\n",
        "train_label = train_label.drop(pos_missing_train)\n",
        "train_data['Embarked'] = train_data['Embarked'].astype(int)"
      ],
      "execution_count": null,
      "outputs": []
    },
    {
      "cell_type": "code",
      "metadata": {
        "id": "HALuQennBBYu"
      },
      "source": [
        "pos_missing_test = [index for index, row in test_data.iterrows() if row.isnull().any()]\n",
        "test_data = test_data.dropna()\n",
        "test_label = test_label.drop(pos_missing_test)"
      ],
      "execution_count": null,
      "outputs": []
    },
    {
      "cell_type": "code",
      "metadata": {
        "colab": {
          "base_uri": "https://localhost:8080/",
          "height": 447
        },
        "id": "Z-qPU_g76vHO",
        "outputId": "44e58e1f-ab5b-416e-864b-77265036f326"
      },
      "source": [
        "train_data"
      ],
      "execution_count": null,
      "outputs": [
        {
          "output_type": "execute_result",
          "data": {
            "text/html": [
              "<div>\n",
              "<style scoped>\n",
              "    .dataframe tbody tr th:only-of-type {\n",
              "        vertical-align: middle;\n",
              "    }\n",
              "\n",
              "    .dataframe tbody tr th {\n",
              "        vertical-align: top;\n",
              "    }\n",
              "\n",
              "    .dataframe thead th {\n",
              "        text-align: right;\n",
              "    }\n",
              "</style>\n",
              "<table border=\"1\" class=\"dataframe\">\n",
              "  <thead>\n",
              "    <tr style=\"text-align: right;\">\n",
              "      <th></th>\n",
              "      <th>Pclass</th>\n",
              "      <th>Sex</th>\n",
              "      <th>Age</th>\n",
              "      <th>SibSp</th>\n",
              "      <th>Parch</th>\n",
              "      <th>Fare</th>\n",
              "      <th>Embarked</th>\n",
              "    </tr>\n",
              "  </thead>\n",
              "  <tbody>\n",
              "    <tr>\n",
              "      <th>0</th>\n",
              "      <td>3</td>\n",
              "      <td>0</td>\n",
              "      <td>22.0</td>\n",
              "      <td>1</td>\n",
              "      <td>0</td>\n",
              "      <td>7.2500</td>\n",
              "      <td>0</td>\n",
              "    </tr>\n",
              "    <tr>\n",
              "      <th>1</th>\n",
              "      <td>1</td>\n",
              "      <td>1</td>\n",
              "      <td>38.0</td>\n",
              "      <td>1</td>\n",
              "      <td>0</td>\n",
              "      <td>71.2833</td>\n",
              "      <td>1</td>\n",
              "    </tr>\n",
              "    <tr>\n",
              "      <th>2</th>\n",
              "      <td>3</td>\n",
              "      <td>1</td>\n",
              "      <td>26.0</td>\n",
              "      <td>0</td>\n",
              "      <td>0</td>\n",
              "      <td>7.9250</td>\n",
              "      <td>0</td>\n",
              "    </tr>\n",
              "    <tr>\n",
              "      <th>3</th>\n",
              "      <td>1</td>\n",
              "      <td>1</td>\n",
              "      <td>35.0</td>\n",
              "      <td>1</td>\n",
              "      <td>0</td>\n",
              "      <td>53.1000</td>\n",
              "      <td>0</td>\n",
              "    </tr>\n",
              "    <tr>\n",
              "      <th>4</th>\n",
              "      <td>3</td>\n",
              "      <td>0</td>\n",
              "      <td>35.0</td>\n",
              "      <td>0</td>\n",
              "      <td>0</td>\n",
              "      <td>8.0500</td>\n",
              "      <td>0</td>\n",
              "    </tr>\n",
              "    <tr>\n",
              "      <th>...</th>\n",
              "      <td>...</td>\n",
              "      <td>...</td>\n",
              "      <td>...</td>\n",
              "      <td>...</td>\n",
              "      <td>...</td>\n",
              "      <td>...</td>\n",
              "      <td>...</td>\n",
              "    </tr>\n",
              "    <tr>\n",
              "      <th>885</th>\n",
              "      <td>3</td>\n",
              "      <td>1</td>\n",
              "      <td>39.0</td>\n",
              "      <td>0</td>\n",
              "      <td>5</td>\n",
              "      <td>29.1250</td>\n",
              "      <td>2</td>\n",
              "    </tr>\n",
              "    <tr>\n",
              "      <th>886</th>\n",
              "      <td>2</td>\n",
              "      <td>0</td>\n",
              "      <td>27.0</td>\n",
              "      <td>0</td>\n",
              "      <td>0</td>\n",
              "      <td>13.0000</td>\n",
              "      <td>0</td>\n",
              "    </tr>\n",
              "    <tr>\n",
              "      <th>887</th>\n",
              "      <td>1</td>\n",
              "      <td>1</td>\n",
              "      <td>19.0</td>\n",
              "      <td>0</td>\n",
              "      <td>0</td>\n",
              "      <td>30.0000</td>\n",
              "      <td>0</td>\n",
              "    </tr>\n",
              "    <tr>\n",
              "      <th>889</th>\n",
              "      <td>1</td>\n",
              "      <td>0</td>\n",
              "      <td>26.0</td>\n",
              "      <td>0</td>\n",
              "      <td>0</td>\n",
              "      <td>30.0000</td>\n",
              "      <td>1</td>\n",
              "    </tr>\n",
              "    <tr>\n",
              "      <th>890</th>\n",
              "      <td>3</td>\n",
              "      <td>0</td>\n",
              "      <td>32.0</td>\n",
              "      <td>0</td>\n",
              "      <td>0</td>\n",
              "      <td>7.7500</td>\n",
              "      <td>2</td>\n",
              "    </tr>\n",
              "  </tbody>\n",
              "</table>\n",
              "<p>712 rows × 7 columns</p>\n",
              "</div>"
            ],
            "text/plain": [
              "     Pclass  Sex   Age  SibSp  Parch     Fare  Embarked\n",
              "0         3    0  22.0      1      0   7.2500         0\n",
              "1         1    1  38.0      1      0  71.2833         1\n",
              "2         3    1  26.0      0      0   7.9250         0\n",
              "3         1    1  35.0      1      0  53.1000         0\n",
              "4         3    0  35.0      0      0   8.0500         0\n",
              "..      ...  ...   ...    ...    ...      ...       ...\n",
              "885       3    1  39.0      0      5  29.1250         2\n",
              "886       2    0  27.0      0      0  13.0000         0\n",
              "887       1    1  19.0      0      0  30.0000         0\n",
              "889       1    0  26.0      0      0  30.0000         1\n",
              "890       3    0  32.0      0      0   7.7500         2\n",
              "\n",
              "[712 rows x 7 columns]"
            ]
          },
          "metadata": {
            "tags": []
          },
          "execution_count": 629
        }
      ]
    },
    {
      "cell_type": "code",
      "metadata": {
        "colab": {
          "base_uri": "https://localhost:8080/",
          "height": 447
        },
        "id": "u3sh_QRK6wVr",
        "outputId": "597cf528-59a0-4e62-d787-6f3ec0b8e420"
      },
      "source": [
        "test_data"
      ],
      "execution_count": null,
      "outputs": [
        {
          "output_type": "execute_result",
          "data": {
            "text/html": [
              "<div>\n",
              "<style scoped>\n",
              "    .dataframe tbody tr th:only-of-type {\n",
              "        vertical-align: middle;\n",
              "    }\n",
              "\n",
              "    .dataframe tbody tr th {\n",
              "        vertical-align: top;\n",
              "    }\n",
              "\n",
              "    .dataframe thead th {\n",
              "        text-align: right;\n",
              "    }\n",
              "</style>\n",
              "<table border=\"1\" class=\"dataframe\">\n",
              "  <thead>\n",
              "    <tr style=\"text-align: right;\">\n",
              "      <th></th>\n",
              "      <th>Pclass</th>\n",
              "      <th>Sex</th>\n",
              "      <th>Age</th>\n",
              "      <th>SibSp</th>\n",
              "      <th>Parch</th>\n",
              "      <th>Fare</th>\n",
              "      <th>Embarked</th>\n",
              "    </tr>\n",
              "  </thead>\n",
              "  <tbody>\n",
              "    <tr>\n",
              "      <th>0</th>\n",
              "      <td>3</td>\n",
              "      <td>0</td>\n",
              "      <td>34.5</td>\n",
              "      <td>0</td>\n",
              "      <td>0</td>\n",
              "      <td>7.8292</td>\n",
              "      <td>2</td>\n",
              "    </tr>\n",
              "    <tr>\n",
              "      <th>1</th>\n",
              "      <td>3</td>\n",
              "      <td>1</td>\n",
              "      <td>47.0</td>\n",
              "      <td>1</td>\n",
              "      <td>0</td>\n",
              "      <td>7.0000</td>\n",
              "      <td>0</td>\n",
              "    </tr>\n",
              "    <tr>\n",
              "      <th>2</th>\n",
              "      <td>2</td>\n",
              "      <td>0</td>\n",
              "      <td>62.0</td>\n",
              "      <td>0</td>\n",
              "      <td>0</td>\n",
              "      <td>9.6875</td>\n",
              "      <td>2</td>\n",
              "    </tr>\n",
              "    <tr>\n",
              "      <th>3</th>\n",
              "      <td>3</td>\n",
              "      <td>0</td>\n",
              "      <td>27.0</td>\n",
              "      <td>0</td>\n",
              "      <td>0</td>\n",
              "      <td>8.6625</td>\n",
              "      <td>0</td>\n",
              "    </tr>\n",
              "    <tr>\n",
              "      <th>4</th>\n",
              "      <td>3</td>\n",
              "      <td>1</td>\n",
              "      <td>22.0</td>\n",
              "      <td>1</td>\n",
              "      <td>1</td>\n",
              "      <td>12.2875</td>\n",
              "      <td>0</td>\n",
              "    </tr>\n",
              "    <tr>\n",
              "      <th>...</th>\n",
              "      <td>...</td>\n",
              "      <td>...</td>\n",
              "      <td>...</td>\n",
              "      <td>...</td>\n",
              "      <td>...</td>\n",
              "      <td>...</td>\n",
              "      <td>...</td>\n",
              "    </tr>\n",
              "    <tr>\n",
              "      <th>409</th>\n",
              "      <td>3</td>\n",
              "      <td>1</td>\n",
              "      <td>3.0</td>\n",
              "      <td>1</td>\n",
              "      <td>1</td>\n",
              "      <td>13.7750</td>\n",
              "      <td>0</td>\n",
              "    </tr>\n",
              "    <tr>\n",
              "      <th>411</th>\n",
              "      <td>1</td>\n",
              "      <td>1</td>\n",
              "      <td>37.0</td>\n",
              "      <td>1</td>\n",
              "      <td>0</td>\n",
              "      <td>90.0000</td>\n",
              "      <td>2</td>\n",
              "    </tr>\n",
              "    <tr>\n",
              "      <th>412</th>\n",
              "      <td>3</td>\n",
              "      <td>1</td>\n",
              "      <td>28.0</td>\n",
              "      <td>0</td>\n",
              "      <td>0</td>\n",
              "      <td>7.7750</td>\n",
              "      <td>0</td>\n",
              "    </tr>\n",
              "    <tr>\n",
              "      <th>414</th>\n",
              "      <td>1</td>\n",
              "      <td>1</td>\n",
              "      <td>39.0</td>\n",
              "      <td>0</td>\n",
              "      <td>0</td>\n",
              "      <td>108.9000</td>\n",
              "      <td>1</td>\n",
              "    </tr>\n",
              "    <tr>\n",
              "      <th>415</th>\n",
              "      <td>3</td>\n",
              "      <td>0</td>\n",
              "      <td>38.5</td>\n",
              "      <td>0</td>\n",
              "      <td>0</td>\n",
              "      <td>7.2500</td>\n",
              "      <td>0</td>\n",
              "    </tr>\n",
              "  </tbody>\n",
              "</table>\n",
              "<p>331 rows × 7 columns</p>\n",
              "</div>"
            ],
            "text/plain": [
              "     Pclass  Sex   Age  SibSp  Parch      Fare  Embarked\n",
              "0         3    0  34.5      0      0    7.8292         2\n",
              "1         3    1  47.0      1      0    7.0000         0\n",
              "2         2    0  62.0      0      0    9.6875         2\n",
              "3         3    0  27.0      0      0    8.6625         0\n",
              "4         3    1  22.0      1      1   12.2875         0\n",
              "..      ...  ...   ...    ...    ...       ...       ...\n",
              "409       3    1   3.0      1      1   13.7750         0\n",
              "411       1    1  37.0      1      0   90.0000         2\n",
              "412       3    1  28.0      0      0    7.7750         0\n",
              "414       1    1  39.0      0      0  108.9000         1\n",
              "415       3    0  38.5      0      0    7.2500         0\n",
              "\n",
              "[331 rows x 7 columns]"
            ]
          },
          "metadata": {
            "tags": []
          },
          "execution_count": 630
        }
      ]
    },
    {
      "cell_type": "markdown",
      "metadata": {
        "id": "CsHOu756BjG5"
      },
      "source": [
        "# Data Normalization"
      ]
    },
    {
      "cell_type": "code",
      "metadata": {
        "colab": {
          "base_uri": "https://localhost:8080/",
          "height": 447
        },
        "id": "3CnUtYkpBnS-",
        "outputId": "29427da8-3169-4060-dda6-4059b09ad415"
      },
      "source": [
        "new_min, new_max = 0, 1\n",
        "new_min_max = []\n",
        "for column in train_data.columns:\n",
        "  if column == 'Age' or column == 'Fare':\n",
        "    data = train_data[column]\n",
        "    min = data.min()\n",
        "    max = data.max()\n",
        "    new_min_max.append([min, max])\n",
        "    train_data[column] = (data - min) * (new_max - new_min) / (max - min) + new_min\n",
        "train_data"
      ],
      "execution_count": null,
      "outputs": [
        {
          "output_type": "execute_result",
          "data": {
            "text/html": [
              "<div>\n",
              "<style scoped>\n",
              "    .dataframe tbody tr th:only-of-type {\n",
              "        vertical-align: middle;\n",
              "    }\n",
              "\n",
              "    .dataframe tbody tr th {\n",
              "        vertical-align: top;\n",
              "    }\n",
              "\n",
              "    .dataframe thead th {\n",
              "        text-align: right;\n",
              "    }\n",
              "</style>\n",
              "<table border=\"1\" class=\"dataframe\">\n",
              "  <thead>\n",
              "    <tr style=\"text-align: right;\">\n",
              "      <th></th>\n",
              "      <th>Pclass</th>\n",
              "      <th>Sex</th>\n",
              "      <th>Age</th>\n",
              "      <th>SibSp</th>\n",
              "      <th>Parch</th>\n",
              "      <th>Fare</th>\n",
              "      <th>Embarked</th>\n",
              "    </tr>\n",
              "  </thead>\n",
              "  <tbody>\n",
              "    <tr>\n",
              "      <th>0</th>\n",
              "      <td>3</td>\n",
              "      <td>0</td>\n",
              "      <td>0.271174</td>\n",
              "      <td>1</td>\n",
              "      <td>0</td>\n",
              "      <td>0.014151</td>\n",
              "      <td>0</td>\n",
              "    </tr>\n",
              "    <tr>\n",
              "      <th>1</th>\n",
              "      <td>1</td>\n",
              "      <td>1</td>\n",
              "      <td>0.472229</td>\n",
              "      <td>1</td>\n",
              "      <td>0</td>\n",
              "      <td>0.139136</td>\n",
              "      <td>1</td>\n",
              "    </tr>\n",
              "    <tr>\n",
              "      <th>2</th>\n",
              "      <td>3</td>\n",
              "      <td>1</td>\n",
              "      <td>0.321438</td>\n",
              "      <td>0</td>\n",
              "      <td>0</td>\n",
              "      <td>0.015469</td>\n",
              "      <td>0</td>\n",
              "    </tr>\n",
              "    <tr>\n",
              "      <th>3</th>\n",
              "      <td>1</td>\n",
              "      <td>1</td>\n",
              "      <td>0.434531</td>\n",
              "      <td>1</td>\n",
              "      <td>0</td>\n",
              "      <td>0.103644</td>\n",
              "      <td>0</td>\n",
              "    </tr>\n",
              "    <tr>\n",
              "      <th>4</th>\n",
              "      <td>3</td>\n",
              "      <td>0</td>\n",
              "      <td>0.434531</td>\n",
              "      <td>0</td>\n",
              "      <td>0</td>\n",
              "      <td>0.015713</td>\n",
              "      <td>0</td>\n",
              "    </tr>\n",
              "    <tr>\n",
              "      <th>...</th>\n",
              "      <td>...</td>\n",
              "      <td>...</td>\n",
              "      <td>...</td>\n",
              "      <td>...</td>\n",
              "      <td>...</td>\n",
              "      <td>...</td>\n",
              "      <td>...</td>\n",
              "    </tr>\n",
              "    <tr>\n",
              "      <th>885</th>\n",
              "      <td>3</td>\n",
              "      <td>1</td>\n",
              "      <td>0.484795</td>\n",
              "      <td>0</td>\n",
              "      <td>5</td>\n",
              "      <td>0.056848</td>\n",
              "      <td>2</td>\n",
              "    </tr>\n",
              "    <tr>\n",
              "      <th>886</th>\n",
              "      <td>2</td>\n",
              "      <td>0</td>\n",
              "      <td>0.334004</td>\n",
              "      <td>0</td>\n",
              "      <td>0</td>\n",
              "      <td>0.025374</td>\n",
              "      <td>0</td>\n",
              "    </tr>\n",
              "    <tr>\n",
              "      <th>887</th>\n",
              "      <td>1</td>\n",
              "      <td>1</td>\n",
              "      <td>0.233476</td>\n",
              "      <td>0</td>\n",
              "      <td>0</td>\n",
              "      <td>0.058556</td>\n",
              "      <td>0</td>\n",
              "    </tr>\n",
              "    <tr>\n",
              "      <th>889</th>\n",
              "      <td>1</td>\n",
              "      <td>0</td>\n",
              "      <td>0.321438</td>\n",
              "      <td>0</td>\n",
              "      <td>0</td>\n",
              "      <td>0.058556</td>\n",
              "      <td>1</td>\n",
              "    </tr>\n",
              "    <tr>\n",
              "      <th>890</th>\n",
              "      <td>3</td>\n",
              "      <td>0</td>\n",
              "      <td>0.396833</td>\n",
              "      <td>0</td>\n",
              "      <td>0</td>\n",
              "      <td>0.015127</td>\n",
              "      <td>2</td>\n",
              "    </tr>\n",
              "  </tbody>\n",
              "</table>\n",
              "<p>712 rows × 7 columns</p>\n",
              "</div>"
            ],
            "text/plain": [
              "     Pclass  Sex       Age  SibSp  Parch      Fare  Embarked\n",
              "0         3    0  0.271174      1      0  0.014151         0\n",
              "1         1    1  0.472229      1      0  0.139136         1\n",
              "2         3    1  0.321438      0      0  0.015469         0\n",
              "3         1    1  0.434531      1      0  0.103644         0\n",
              "4         3    0  0.434531      0      0  0.015713         0\n",
              "..      ...  ...       ...    ...    ...       ...       ...\n",
              "885       3    1  0.484795      0      5  0.056848         2\n",
              "886       2    0  0.334004      0      0  0.025374         0\n",
              "887       1    1  0.233476      0      0  0.058556         0\n",
              "889       1    0  0.321438      0      0  0.058556         1\n",
              "890       3    0  0.396833      0      0  0.015127         2\n",
              "\n",
              "[712 rows x 7 columns]"
            ]
          },
          "metadata": {
            "tags": []
          },
          "execution_count": 631
        }
      ]
    },
    {
      "cell_type": "code",
      "metadata": {
        "colab": {
          "base_uri": "https://localhost:8080/",
          "height": 447
        },
        "id": "lWjfWHJ8DZWg",
        "outputId": "4d72ac52-d1aa-46a1-a0e8-87eeed97ad56"
      },
      "source": [
        "i = 0\n",
        "for column in test_data.columns:\n",
        "  if column == 'Age' or column == 'Fare':\n",
        "    data = test_data[column]\n",
        "    min = new_min_max[i][0]\n",
        "    max = new_min_max[i][1]\n",
        "    test_data[column] = (data - min) * (new_max - new_min) / (max - min) + new_min\n",
        "    i += 1\n",
        "test_data"
      ],
      "execution_count": null,
      "outputs": [
        {
          "output_type": "execute_result",
          "data": {
            "text/html": [
              "<div>\n",
              "<style scoped>\n",
              "    .dataframe tbody tr th:only-of-type {\n",
              "        vertical-align: middle;\n",
              "    }\n",
              "\n",
              "    .dataframe tbody tr th {\n",
              "        vertical-align: top;\n",
              "    }\n",
              "\n",
              "    .dataframe thead th {\n",
              "        text-align: right;\n",
              "    }\n",
              "</style>\n",
              "<table border=\"1\" class=\"dataframe\">\n",
              "  <thead>\n",
              "    <tr style=\"text-align: right;\">\n",
              "      <th></th>\n",
              "      <th>Pclass</th>\n",
              "      <th>Sex</th>\n",
              "      <th>Age</th>\n",
              "      <th>SibSp</th>\n",
              "      <th>Parch</th>\n",
              "      <th>Fare</th>\n",
              "      <th>Embarked</th>\n",
              "    </tr>\n",
              "  </thead>\n",
              "  <tbody>\n",
              "    <tr>\n",
              "      <th>0</th>\n",
              "      <td>3</td>\n",
              "      <td>0</td>\n",
              "      <td>0.428248</td>\n",
              "      <td>0</td>\n",
              "      <td>0</td>\n",
              "      <td>0.015282</td>\n",
              "      <td>2</td>\n",
              "    </tr>\n",
              "    <tr>\n",
              "      <th>1</th>\n",
              "      <td>3</td>\n",
              "      <td>1</td>\n",
              "      <td>0.585323</td>\n",
              "      <td>1</td>\n",
              "      <td>0</td>\n",
              "      <td>0.013663</td>\n",
              "      <td>0</td>\n",
              "    </tr>\n",
              "    <tr>\n",
              "      <th>2</th>\n",
              "      <td>2</td>\n",
              "      <td>0</td>\n",
              "      <td>0.773813</td>\n",
              "      <td>0</td>\n",
              "      <td>0</td>\n",
              "      <td>0.018909</td>\n",
              "      <td>2</td>\n",
              "    </tr>\n",
              "    <tr>\n",
              "      <th>3</th>\n",
              "      <td>3</td>\n",
              "      <td>0</td>\n",
              "      <td>0.334004</td>\n",
              "      <td>0</td>\n",
              "      <td>0</td>\n",
              "      <td>0.016908</td>\n",
              "      <td>0</td>\n",
              "    </tr>\n",
              "    <tr>\n",
              "      <th>4</th>\n",
              "      <td>3</td>\n",
              "      <td>1</td>\n",
              "      <td>0.271174</td>\n",
              "      <td>1</td>\n",
              "      <td>1</td>\n",
              "      <td>0.023984</td>\n",
              "      <td>0</td>\n",
              "    </tr>\n",
              "    <tr>\n",
              "      <th>...</th>\n",
              "      <td>...</td>\n",
              "      <td>...</td>\n",
              "      <td>...</td>\n",
              "      <td>...</td>\n",
              "      <td>...</td>\n",
              "      <td>...</td>\n",
              "      <td>...</td>\n",
              "    </tr>\n",
              "    <tr>\n",
              "      <th>409</th>\n",
              "      <td>3</td>\n",
              "      <td>1</td>\n",
              "      <td>0.032420</td>\n",
              "      <td>1</td>\n",
              "      <td>1</td>\n",
              "      <td>0.026887</td>\n",
              "      <td>0</td>\n",
              "    </tr>\n",
              "    <tr>\n",
              "      <th>411</th>\n",
              "      <td>1</td>\n",
              "      <td>1</td>\n",
              "      <td>0.459663</td>\n",
              "      <td>1</td>\n",
              "      <td>0</td>\n",
              "      <td>0.175668</td>\n",
              "      <td>2</td>\n",
              "    </tr>\n",
              "    <tr>\n",
              "      <th>412</th>\n",
              "      <td>3</td>\n",
              "      <td>1</td>\n",
              "      <td>0.346569</td>\n",
              "      <td>0</td>\n",
              "      <td>0</td>\n",
              "      <td>0.015176</td>\n",
              "      <td>0</td>\n",
              "    </tr>\n",
              "    <tr>\n",
              "      <th>414</th>\n",
              "      <td>1</td>\n",
              "      <td>1</td>\n",
              "      <td>0.484795</td>\n",
              "      <td>0</td>\n",
              "      <td>0</td>\n",
              "      <td>0.212559</td>\n",
              "      <td>1</td>\n",
              "    </tr>\n",
              "    <tr>\n",
              "      <th>415</th>\n",
              "      <td>3</td>\n",
              "      <td>0</td>\n",
              "      <td>0.478512</td>\n",
              "      <td>0</td>\n",
              "      <td>0</td>\n",
              "      <td>0.014151</td>\n",
              "      <td>0</td>\n",
              "    </tr>\n",
              "  </tbody>\n",
              "</table>\n",
              "<p>331 rows × 7 columns</p>\n",
              "</div>"
            ],
            "text/plain": [
              "     Pclass  Sex       Age  SibSp  Parch      Fare  Embarked\n",
              "0         3    0  0.428248      0      0  0.015282         2\n",
              "1         3    1  0.585323      1      0  0.013663         0\n",
              "2         2    0  0.773813      0      0  0.018909         2\n",
              "3         3    0  0.334004      0      0  0.016908         0\n",
              "4         3    1  0.271174      1      1  0.023984         0\n",
              "..      ...  ...       ...    ...    ...       ...       ...\n",
              "409       3    1  0.032420      1      1  0.026887         0\n",
              "411       1    1  0.459663      1      0  0.175668         2\n",
              "412       3    1  0.346569      0      0  0.015176         0\n",
              "414       1    1  0.484795      0      0  0.212559         1\n",
              "415       3    0  0.478512      0      0  0.014151         0\n",
              "\n",
              "[331 rows x 7 columns]"
            ]
          },
          "metadata": {
            "tags": []
          },
          "execution_count": 632
        }
      ]
    },
    {
      "cell_type": "markdown",
      "metadata": {
        "id": "W7_mRtJqMf5T"
      },
      "source": [
        "# Classification"
      ]
    },
    {
      "cell_type": "code",
      "metadata": {
        "id": "y1s0GNpErXc8"
      },
      "source": [
        "class Record:\n",
        "  def __init__(self, columns, error_ratio):\n",
        "    self.columns = columns\n",
        "    self.error_ratio = error_ratio"
      ],
      "execution_count": null,
      "outputs": []
    },
    {
      "cell_type": "markdown",
      "metadata": {
        "id": "oUYhwEUZmXAe"
      },
      "source": [
        "## Select Features"
      ]
    },
    {
      "cell_type": "markdown",
      "metadata": {
        "id": "9ovPuexJmbMG"
      },
      "source": [
        "### 2"
      ]
    },
    {
      "cell_type": "code",
      "metadata": {
        "id": "J21QAwoSojPH"
      },
      "source": [
        "dtc = DecisionTreeClassifier()"
      ],
      "execution_count": null,
      "outputs": []
    },
    {
      "cell_type": "code",
      "metadata": {
        "id": "EbxVI-flmde3"
      },
      "source": [
        "records = []\n",
        "for i in range(0, 6):\n",
        "  for j in range(i, 6):\n",
        "    columns = []\n",
        "    if i != j:\n",
        "      columns.append(train_data.columns[i])\n",
        "      columns.append(train_data.columns[j])\n",
        "      train_data_2 = train_data.loc[:, columns]\n",
        "      test_data_2 = test_data.loc[:, columns]\n",
        "      clf_2 = dtc.fit(train_data_2, train_label)\n",
        "      pred_label = clf_2.predict(test_data_2)\n",
        "      acc = metrics.accuracy_score(test_label, pred_label)\n",
        "      err = round((1 - acc) * 100, 2)\n",
        "      records.append(Record(columns, err))"
      ],
      "execution_count": null,
      "outputs": []
    },
    {
      "cell_type": "markdown",
      "metadata": {
        "id": "fu_upSrP_DWy"
      },
      "source": [
        "## 3"
      ]
    },
    {
      "cell_type": "code",
      "metadata": {
        "id": "YU-lFpP1D526"
      },
      "source": [
        "for i in range(0, 6):\n",
        "  for j in range(i, 6):\n",
        "    for k in range(j, 6):\n",
        "      columns = []\n",
        "      if i != j and i != k and j != k:\n",
        "        columns.append(train_data.columns[i])\n",
        "        columns.append(train_data.columns[j])\n",
        "        columns.append(train_data.columns[k])\n",
        "        train_data_3 = train_data.loc[:, columns]\n",
        "        test_data_3 = test_data.loc[:, columns]\n",
        "        clf_3 = dtc.fit(train_data_3, train_label)\n",
        "        pred_label = clf_3.predict(test_data_3)\n",
        "        acc = metrics.accuracy_score(test_label, pred_label)\n",
        "        err = round((1 - acc) * 100, 2)\n",
        "        records.append(Record(columns, err))"
      ],
      "execution_count": null,
      "outputs": []
    },
    {
      "cell_type": "markdown",
      "metadata": {
        "id": "WsTENO6aFYgg"
      },
      "source": [
        "## 4"
      ]
    },
    {
      "cell_type": "code",
      "metadata": {
        "id": "-qt_x9K8EfC5"
      },
      "source": [
        "for i in range(0, 6):\n",
        "  for j in range(i, 6):\n",
        "    for k in range(j, 6):\n",
        "      for l in range(k, 6):\n",
        "        columns = []\n",
        "        if i != j and i != k and i != l and j != l and k != l and j != k:\n",
        "          columns.append(train_data.columns[i])\n",
        "          columns.append(train_data.columns[j])\n",
        "          columns.append(train_data.columns[k])\n",
        "          columns.append(train_data.columns[l])\n",
        "          train_data_4 = train_data.loc[:, columns]\n",
        "          test_data_4 = test_data.loc[:, columns]\n",
        "          clf_4 = dtc.fit(train_data_4, train_label)\n",
        "          pred_label = clf_4.predict(test_data_4)\n",
        "          acc = metrics.accuracy_score(test_label, pred_label)\n",
        "          err = round((1 - acc) * 100, 2)\n",
        "          records.append(Record(columns, err))"
      ],
      "execution_count": null,
      "outputs": []
    },
    {
      "cell_type": "markdown",
      "metadata": {
        "id": "OmQy4iT7FdpV"
      },
      "source": [
        "## 5"
      ]
    },
    {
      "cell_type": "code",
      "metadata": {
        "id": "em-LMzdMFj5S"
      },
      "source": [
        "for i in range(0, 6):\n",
        "  for j in range(i, 6):\n",
        "    for k in range(j, 6):\n",
        "      for l in range(k, 6):\n",
        "        for m in range(l, 6):\n",
        "          columns = []\n",
        "          if i != j and i != k and i != l and j != l and k != l and j != k and i != m and j != m and k != m and l != m:\n",
        "            columns.append(train_data.columns[i])\n",
        "            columns.append(train_data.columns[j])\n",
        "            columns.append(train_data.columns[k])\n",
        "            columns.append(train_data.columns[l])\n",
        "            columns.append(train_data.columns[m])\n",
        "            train_data_5 = train_data.loc[:, columns]\n",
        "            test_data_5 = test_data.loc[:, columns]\n",
        "            clf_5 = dtc.fit(train_data_5, train_label)\n",
        "            pred_label = clf_5.predict(test_data_5)\n",
        "            acc = metrics.accuracy_score(test_label, pred_label)\n",
        "            err = round((1 - acc) * 100, 2)\n",
        "            records.append(Record(columns, err))"
      ],
      "execution_count": null,
      "outputs": []
    },
    {
      "cell_type": "markdown",
      "metadata": {
        "id": "vzvupPBvFxpa"
      },
      "source": [
        "## 6"
      ]
    },
    {
      "cell_type": "code",
      "metadata": {
        "id": "t_jF0EObF0Iw"
      },
      "source": [
        "clf_6 = dtc.fit(train_data, train_label)\n",
        "pred_label = clf_6.predict(test_data)\n",
        "acc = metrics.accuracy_score(test_label, pred_label)\n",
        "err = round((1 - acc) * 100, 2)\n",
        "records.append(Record(['Pclass', 'Sex', 'Age', 'SibSp', 'Parch', 'Fare', 'Embarked'], err))"
      ],
      "execution_count": null,
      "outputs": []
    },
    {
      "cell_type": "code",
      "metadata": {
        "colab": {
          "base_uri": "https://localhost:8080/"
        },
        "id": "JXLgQduXFNPU",
        "outputId": "f3aed3bb-3010-443a-9194-da2da0fac4e8"
      },
      "source": [
        "for record in records:\n",
        "  print(record.columns, \" \", record.error_ratio)"
      ],
      "execution_count": null,
      "outputs": [
        {
          "output_type": "stream",
          "text": [
            "['Pclass', 'Sex']   15.11\n",
            "['Pclass', 'Age']   41.69\n",
            "['Pclass', 'SibSp']   39.88\n",
            "['Pclass', 'Parch']   37.16\n",
            "['Pclass', 'Fare']   38.07\n",
            "['Sex', 'Age']   10.27\n",
            "['Sex', 'SibSp']   0.91\n",
            "['Sex', 'Parch']   0.3\n",
            "['Sex', 'Fare']   11.18\n",
            "['Age', 'SibSp']   41.69\n",
            "['Age', 'Parch']   40.48\n",
            "['Age', 'Fare']   43.5\n",
            "['SibSp', 'Parch']   34.44\n",
            "['SibSp', 'Fare']   36.86\n",
            "['Parch', 'Fare']   35.65\n",
            "['Pclass', 'Sex', 'Age']   17.52\n",
            "['Pclass', 'Sex', 'SibSp']   6.04\n",
            "['Pclass', 'Sex', 'Parch']   13.29\n",
            "['Pclass', 'Sex', 'Fare']   11.78\n",
            "['Pclass', 'Age', 'SibSp']   43.5\n",
            "['Pclass', 'Age', 'Parch']   44.71\n",
            "['Pclass', 'Age', 'Fare']   43.5\n",
            "['Pclass', 'SibSp', 'Parch']   38.07\n",
            "['Pclass', 'SibSp', 'Fare']   36.25\n",
            "['Pclass', 'Parch', 'Fare']   35.95\n",
            "['Sex', 'Age', 'SibSp']   13.6\n",
            "['Sex', 'Age', 'Parch']   17.52\n",
            "['Sex', 'Age', 'Fare']   18.43\n",
            "['Sex', 'SibSp', 'Parch']   5.14\n",
            "['Sex', 'SibSp', 'Fare']   11.48\n",
            "['Sex', 'Parch', 'Fare']   11.78\n",
            "['Age', 'SibSp', 'Parch']   41.39\n",
            "['Age', 'SibSp', 'Fare']   43.81\n",
            "['Age', 'Parch', 'Fare']   43.2\n",
            "['SibSp', 'Parch', 'Fare']   35.35\n",
            "['Pclass', 'Sex', 'Age', 'SibSp']   23.26\n",
            "['Pclass', 'Sex', 'Age', 'Parch']   18.73\n",
            "['Pclass', 'Sex', 'Age', 'Fare']   21.45\n",
            "['Pclass', 'Sex', 'SibSp', 'Parch']   9.37\n",
            "['Pclass', 'Sex', 'SibSp', 'Fare']   12.99\n",
            "['Pclass', 'Sex', 'Parch', 'Fare']   12.08\n",
            "['Pclass', 'Age', 'SibSp', 'Parch']   42.6\n",
            "['Pclass', 'Age', 'SibSp', 'Fare']   43.2\n",
            "['Pclass', 'Age', 'Parch', 'Fare']   42.3\n",
            "['Pclass', 'SibSp', 'Parch', 'Fare']   34.74\n",
            "['Sex', 'Age', 'SibSp', 'Parch']   18.43\n",
            "['Sex', 'Age', 'SibSp', 'Fare']   22.05\n",
            "['Sex', 'Age', 'Parch', 'Fare']   19.64\n",
            "['Sex', 'SibSp', 'Parch', 'Fare']   12.08\n",
            "['Age', 'SibSp', 'Parch', 'Fare']   41.99\n",
            "['Pclass', 'Sex', 'Age', 'SibSp', 'Parch']   24.77\n",
            "['Pclass', 'Sex', 'Age', 'SibSp', 'Fare']   22.66\n",
            "['Pclass', 'Sex', 'Age', 'Parch', 'Fare']   23.87\n",
            "['Pclass', 'Sex', 'SibSp', 'Parch', 'Fare']   12.39\n",
            "['Pclass', 'Age', 'SibSp', 'Parch', 'Fare']   43.5\n",
            "['Sex', 'Age', 'SibSp', 'Parch', 'Fare']   21.45\n",
            "['Pclass', 'Sex', 'Age', 'SibSp', 'Parch', 'Fare', 'Embarked']   25.98\n"
          ],
          "name": "stdout"
        }
      ]
    },
    {
      "cell_type": "code",
      "metadata": {
        "colab": {
          "base_uri": "https://localhost:8080/"
        },
        "id": "F7qZ2gKfHWe2",
        "outputId": "aaea6778-d372-476f-c343-819368f1c628"
      },
      "source": [
        "loc = 0\n",
        "for i in range(0, len(records)):\n",
        "  if records[i].error_ratio < records[loc].error_ratio:\n",
        "    loc = i\n",
        "print(records[loc].columns, \" \", records[loc].error_ratio)"
      ],
      "execution_count": null,
      "outputs": [
        {
          "output_type": "stream",
          "text": [
            "['Sex', 'Parch']   0.3\n"
          ],
          "name": "stdout"
        }
      ]
    }
  ]
}